{
 "cells": [
  {
   "cell_type": "code",
   "execution_count": null,
   "metadata": {},
   "outputs": [],
   "source": [
    "import pandas as pd\n",
    "import numpy as np\n",
    "import scipy as sci\n",
    "#import scipy.stats as scipystats\n",
    "from scipy import stats\n",
    "import seaborn as sns\n",
    "import matplotlib.pyplot as plt\n",
    "plt.style.use('ggplot')\n",
    "%matplotlib inline\n",
    "import itertools\n",
    "from itertools import chain, combinations\n",
    "import statsmodels.formula.api as smf\n",
    "import statsmodels.api as sm\n",
    "import statsmodels.stats.stattools as stools\n",
    "#import statsmodels.stats as stats\n",
    "from statsmodels.graphics.regressionplots import *\n",
    "import copy\n",
    "from sklearn.cross_validation import train_test_split\n",
    "import math\n",
    "import time\n",
    "import os"
   ]
  },
  {
   "cell_type": "code",
   "execution_count": 9,
   "metadata": {},
   "outputs": [],
   "source": [
    "import pandas as pd\n",
    "import numpy as np\n",
    "import pandas as pd\n",
    "import scipy as sci\n",
    "import seaborn as sns\n",
    "from scipy import stats\n",
    "from sklearn.preprocessing import MinMaxScaler\n",
    "import matplotlib.pyplot as plt\n",
    "plt.style.use('ggplot')\n",
    "%matplotlib inline\n",
    "import os"
   ]
  },
  {
   "cell_type": "code",
   "execution_count": 7,
   "metadata": {},
   "outputs": [],
   "source": [
    "df = df.rename(columns=lambda x: x.replace(' ', '_'))\n",
    "df = df.rename(columns=lambda x: x.replace('(', ''))\n",
    "df = df.rename(columns=lambda x: x.replace(')', ''))\n",
    "df = df.rename(columns=lambda x: x.replace('?', ''))\n",
    "df = df.rename(columns=lambda x: x.replace('/', '_'))\n",
    "df = df.rename(columns=lambda x: x.replace('-', '_'))"
   ]
  },
  {
   "cell_type": "code",
   "execution_count": 29,
   "metadata": {},
   "outputs": [],
   "source": [
    "data_url = \"https://raw.githubusercontent.com/atillaguzel/gamingsurvey/master/dataset/gaming_survey_org.csv\"\n",
    "columns = [\"Timestamp\", \"Gender\", \"Age\", \"Player\", \"Frequency\", \"Device\", \"Genres\", \"Fun\", \"Competency\", \"Break\", \"Education\", \"Fitness\", \"Community\", \"Professional\", \"Challenge\", \"Socialize\"]\n",
    "df = pd.read_csv(data_url , sep = ',', skiprows=1, names=columns)"
   ]
  },
  {
   "cell_type": "code",
   "execution_count": 30,
   "metadata": {},
   "outputs": [
    {
     "name": "stdout",
     "output_type": "stream",
     "text": [
      "<class 'pandas.core.frame.DataFrame'>\n",
      "RangeIndex: 777 entries, 0 to 776\n",
      "Data columns (total 16 columns):\n",
      "Timestamp       777 non-null object\n",
      "Gender          777 non-null object\n",
      "Age             777 non-null object\n",
      "Player          777 non-null object\n",
      "Frequency       777 non-null object\n",
      "Device          777 non-null object\n",
      "Genres          777 non-null object\n",
      "Fun             777 non-null int64\n",
      "Competency      777 non-null int64\n",
      "Break           777 non-null int64\n",
      "Education       777 non-null int64\n",
      "Fitness         777 non-null int64\n",
      "Community       777 non-null int64\n",
      "Professional    777 non-null int64\n",
      "Challenge       777 non-null int64\n",
      "Socialize       777 non-null int64\n",
      "dtypes: int64(9), object(7)\n",
      "memory usage: 97.2+ KB\n"
     ]
    }
   ],
   "source": [
    "df.info()"
   ]
  },
  {
   "cell_type": "code",
   "execution_count": 31,
   "metadata": {},
   "outputs": [],
   "source": [
    "df = df[df['Player'] != \"No\"]"
   ]
  },
  {
   "cell_type": "code",
   "execution_count": 32,
   "metadata": {},
   "outputs": [],
   "source": [
    "drop_column = [\"Timestamp\", \"Player\"]\n",
    "df.drop(drop_column, inplace=True, axis=1)"
   ]
  },
  {
   "cell_type": "code",
   "execution_count": 33,
   "metadata": {},
   "outputs": [
    {
     "data": {
      "text/html": [
       "<div>\n",
       "<style scoped>\n",
       "    .dataframe tbody tr th:only-of-type {\n",
       "        vertical-align: middle;\n",
       "    }\n",
       "\n",
       "    .dataframe tbody tr th {\n",
       "        vertical-align: top;\n",
       "    }\n",
       "\n",
       "    .dataframe thead th {\n",
       "        text-align: right;\n",
       "    }\n",
       "</style>\n",
       "<table border=\"1\" class=\"dataframe\">\n",
       "  <thead>\n",
       "    <tr style=\"text-align: right;\">\n",
       "      <th></th>\n",
       "      <th>Gender</th>\n",
       "      <th>Age</th>\n",
       "      <th>Frequency</th>\n",
       "      <th>Device</th>\n",
       "      <th>Genres</th>\n",
       "      <th>Fun</th>\n",
       "      <th>Competency</th>\n",
       "      <th>Break</th>\n",
       "      <th>Education</th>\n",
       "      <th>Fitness</th>\n",
       "      <th>Community</th>\n",
       "      <th>Professional</th>\n",
       "      <th>Challenge</th>\n",
       "      <th>Socialize</th>\n",
       "    </tr>\n",
       "  </thead>\n",
       "  <tbody>\n",
       "    <tr>\n",
       "      <th>0</th>\n",
       "      <td>Male</td>\n",
       "      <td>35-39</td>\n",
       "      <td>Less than 3 hours a week</td>\n",
       "      <td>Smartphone</td>\n",
       "      <td>Simulation;Strategy</td>\n",
       "      <td>5</td>\n",
       "      <td>4</td>\n",
       "      <td>6</td>\n",
       "      <td>3</td>\n",
       "      <td>1</td>\n",
       "      <td>1</td>\n",
       "      <td>1</td>\n",
       "      <td>2</td>\n",
       "      <td>1</td>\n",
       "    </tr>\n",
       "    <tr>\n",
       "      <th>1</th>\n",
       "      <td>Male</td>\n",
       "      <td>40-45</td>\n",
       "      <td>20 hours or more a week</td>\n",
       "      <td>PC/Laptop</td>\n",
       "      <td>Racing</td>\n",
       "      <td>7</td>\n",
       "      <td>3</td>\n",
       "      <td>7</td>\n",
       "      <td>1</td>\n",
       "      <td>1</td>\n",
       "      <td>1</td>\n",
       "      <td>1</td>\n",
       "      <td>5</td>\n",
       "      <td>1</td>\n",
       "    </tr>\n",
       "    <tr>\n",
       "      <th>2</th>\n",
       "      <td>Male</td>\n",
       "      <td>18-24</td>\n",
       "      <td>3-5 hours a week</td>\n",
       "      <td>Smartphone;Gaming Console (Playstation, Xbox o...</td>\n",
       "      <td>Arcade;Simulation;Puzzle;Strategy;Racing;Sports</td>\n",
       "      <td>7</td>\n",
       "      <td>6</td>\n",
       "      <td>7</td>\n",
       "      <td>1</td>\n",
       "      <td>1</td>\n",
       "      <td>1</td>\n",
       "      <td>1</td>\n",
       "      <td>1</td>\n",
       "      <td>4</td>\n",
       "    </tr>\n",
       "    <tr>\n",
       "      <th>3</th>\n",
       "      <td>Male</td>\n",
       "      <td>18-24</td>\n",
       "      <td>10-14 hours a week</td>\n",
       "      <td>Smartphone;PC/Laptop;Gaming Console (Playstati...</td>\n",
       "      <td>Arcade;Action;Adventure;Role-playing;Sports;Bo...</td>\n",
       "      <td>7</td>\n",
       "      <td>3</td>\n",
       "      <td>5</td>\n",
       "      <td>4</td>\n",
       "      <td>1</td>\n",
       "      <td>5</td>\n",
       "      <td>1</td>\n",
       "      <td>4</td>\n",
       "      <td>5</td>\n",
       "    </tr>\n",
       "    <tr>\n",
       "      <th>4</th>\n",
       "      <td>Male</td>\n",
       "      <td>25-29</td>\n",
       "      <td>6-9 hours a week</td>\n",
       "      <td>Gaming Console (Playstation, Xbox or Nintendo ...</td>\n",
       "      <td>Action;Adventure;Role-playing;RPG</td>\n",
       "      <td>7</td>\n",
       "      <td>4</td>\n",
       "      <td>6</td>\n",
       "      <td>4</td>\n",
       "      <td>3</td>\n",
       "      <td>1</td>\n",
       "      <td>1</td>\n",
       "      <td>2</td>\n",
       "      <td>3</td>\n",
       "    </tr>\n",
       "  </tbody>\n",
       "</table>\n",
       "</div>"
      ],
      "text/plain": [
       "  Gender    Age                 Frequency  \\\n",
       "0   Male  35-39  Less than 3 hours a week   \n",
       "1   Male  40-45   20 hours or more a week   \n",
       "2   Male  18-24          3-5 hours a week   \n",
       "3   Male  18-24        10-14 hours a week   \n",
       "4   Male  25-29          6-9 hours a week   \n",
       "\n",
       "                                              Device  \\\n",
       "0                                         Smartphone   \n",
       "1                                          PC/Laptop   \n",
       "2  Smartphone;Gaming Console (Playstation, Xbox o...   \n",
       "3  Smartphone;PC/Laptop;Gaming Console (Playstati...   \n",
       "4  Gaming Console (Playstation, Xbox or Nintendo ...   \n",
       "\n",
       "                                              Genres  Fun  Competency  Break  \\\n",
       "0                                Simulation;Strategy    5           4      6   \n",
       "1                                             Racing    7           3      7   \n",
       "2    Arcade;Simulation;Puzzle;Strategy;Racing;Sports    7           6      7   \n",
       "3  Arcade;Action;Adventure;Role-playing;Sports;Bo...    7           3      5   \n",
       "4                  Action;Adventure;Role-playing;RPG    7           4      6   \n",
       "\n",
       "   Education  Fitness  Community  Professional  Challenge  Socialize  \n",
       "0          3        1          1             1          2          1  \n",
       "1          1        1          1             1          5          1  \n",
       "2          1        1          1             1          1          4  \n",
       "3          4        1          5             1          4          5  \n",
       "4          4        3          1             1          2          3  "
      ]
     },
     "execution_count": 33,
     "metadata": {},
     "output_type": "execute_result"
    }
   ],
   "source": [
    "df.head()"
   ]
  },
  {
   "cell_type": "code",
   "execution_count": 34,
   "metadata": {},
   "outputs": [
    {
     "name": "stdout",
     "output_type": "stream",
     "text": [
      "<class 'pandas.core.frame.DataFrame'>\n",
      "Int64Index: 687 entries, 0 to 776\n",
      "Data columns (total 14 columns):\n",
      "Gender          687 non-null object\n",
      "Age             687 non-null object\n",
      "Frequency       687 non-null object\n",
      "Device          687 non-null object\n",
      "Genres          687 non-null object\n",
      "Fun             687 non-null int64\n",
      "Competency      687 non-null int64\n",
      "Break           687 non-null int64\n",
      "Education       687 non-null int64\n",
      "Fitness         687 non-null int64\n",
      "Community       687 non-null int64\n",
      "Professional    687 non-null int64\n",
      "Challenge       687 non-null int64\n",
      "Socialize       687 non-null int64\n",
      "dtypes: int64(9), object(5)\n",
      "memory usage: 80.5+ KB\n"
     ]
    }
   ],
   "source": [
    "df.info()"
   ]
  },
  {
   "cell_type": "code",
   "execution_count": 37,
   "metadata": {},
   "outputs": [
    {
     "data": {
      "image/png": "[encoded data removed]",
      "text/plain": [
       "<Figure size 432x288 with 1 Axes>"
      ]
     },
     "metadata": {},
     "output_type": "display_data"
    }
   ],
   "source": [
    "df['Gender'].value_counts().plot(kind='barh')\n",
    "plt.tight_layout()"
   ]
  },
  {
   "cell_type": "code",
   "execution_count": 36,
   "metadata": {},
   "outputs": [
    {
     "data": {
      "image/png": "[encoded data removed]",
      "text/plain": [
       "<Figure size 432x288 with 1 Axes>"
      ]
     },
     "metadata": {},
     "output_type": "display_data"
    }
   ],
   "source": [
    "df['Age'].value_counts().plot(kind='barh')\n",
    "plt.tight_layout()"
   ]
  },
  {
   "cell_type": "code",
   "execution_count": 38,
   "metadata": {},
   "outputs": [
    {
     "data": {
      "image/png": "[encoded data removed]",
      "text/plain": [
       "<Figure size 432x288 with 1 Axes>"
      ]
     },
     "metadata": {},
     "output_type": "display_data"
    }
   ],
   "source": [
    "df['Frequency'].value_counts().plot(kind='barh')\n",
    "plt.tight_layout()"
   ]
  },
  {
   "cell_type": "code",
   "execution_count": 41,
   "metadata": {},
   "outputs": [],
   "source": [
    "df.to_csv('gaming_survey.csv', sep=',')"
   ]
  }
 ],
 "metadata": {
  "kernelspec": {
   "display_name": "Python 3",
   "language": "python",
   "name": "python3"
  },
  "language_info": {
   "codemirror_mode": {
    "name": "ipython",
    "version": 3
   },
   "file_extension": ".py",
   "mimetype": "text/x-python",
   "name": "python",
   "nbconvert_exporter": "python",
   "pygments_lexer": "ipython3",
   "version": "3.6.5"
  }
 },
 "nbformat": 4,
 "nbformat_minor": 2
}
